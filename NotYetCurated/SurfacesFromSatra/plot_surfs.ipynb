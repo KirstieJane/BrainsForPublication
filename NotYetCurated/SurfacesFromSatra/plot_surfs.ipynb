{
 "cells": [
  {
   "cell_type": "code",
   "execution_count": 1,
   "metadata": {
    "collapsed": false
   },
   "outputs": [],
   "source": [
    "%matplotlib qt\n",
    "%gui qt\n",
    "\n",
    "import matplotlib.pyplot as plt"
   ]
  },
  {
   "cell_type": "code",
   "execution_count": 2,
   "metadata": {
    "collapsed": false
   },
   "outputs": [],
   "source": [
    "from glob import glob\n",
    "import numpy as np\n",
    "import nibabel as nb\n",
    "import nibabel.gifti as gifti"
   ]
  },
  {
   "cell_type": "code",
   "execution_count": 3,
   "metadata": {
    "collapsed": false
   },
   "outputs": [
    {
     "name": "stderr",
     "output_type": "stream",
     "text": [
      "WARNING:traits.has_traits:DEPRECATED: traits.has_traits.wrapped_class, 'the 'implements' class advisor has been deprecated. Use the 'provides' class decorator.\n"
     ]
    }
   ],
   "source": [
    "from mayavi import mlab\n",
    "from tvtk.api import tvtk"
   ]
  },
  {
   "cell_type": "code",
   "execution_count": 4,
   "metadata": {
    "collapsed": false
   },
   "outputs": [
    {
     "name": "stderr",
     "output_type": "stream",
     "text": [
      "pixdim[1,2,3] should be non-zero; setting 0 dims to 1\n",
      "WARNING:nibabel.global:pixdim[1,2,3] should be non-zero; setting 0 dims to 1\n"
     ]
    },
    {
     "name": "stdout",
     "output_type": "stream",
     "text": [
      "(0, 0, 'CIFTI_STRUCTURE_CORTEX_LEFT')\n",
      "(1, 29696, 'CIFTI_STRUCTURE_CORTEX_RIGHT')\n",
      "(2, 59412, 'CIFTI_STRUCTURE_ACCUMBENS_LEFT')\n",
      "(3, 59547, 'CIFTI_STRUCTURE_ACCUMBENS_RIGHT')\n",
      "(4, 59687, 'CIFTI_STRUCTURE_AMYGDALA_LEFT')\n",
      "(5, 60002, 'CIFTI_STRUCTURE_AMYGDALA_RIGHT')\n",
      "(6, 60334, 'CIFTI_STRUCTURE_BRAIN_STEM')\n",
      "(7, 63806, 'CIFTI_STRUCTURE_CAUDATE_LEFT')\n",
      "(8, 64534, 'CIFTI_STRUCTURE_CAUDATE_RIGHT')\n",
      "(9, 65289, 'CIFTI_STRUCTURE_CEREBELLUM_LEFT')\n",
      "(10, 73998, 'CIFTI_STRUCTURE_CEREBELLUM_RIGHT')\n",
      "(11, 83142, 'CIFTI_STRUCTURE_DIENCEPHALON_VENTRAL_LEFT')\n",
      "(12, 83848, 'CIFTI_STRUCTURE_DIENCEPHALON_VENTRAL_RIGHT')\n",
      "(13, 84560, 'CIFTI_STRUCTURE_HIPPOCAMPUS_LEFT')\n",
      "(14, 85324, 'CIFTI_STRUCTURE_HIPPOCAMPUS_RIGHT')\n",
      "(15, 86119, 'CIFTI_STRUCTURE_PALLIDUM_LEFT')\n",
      "(16, 86416, 'CIFTI_STRUCTURE_PALLIDUM_RIGHT')\n",
      "(17, 86676, 'CIFTI_STRUCTURE_PUTAMEN_LEFT')\n",
      "(18, 87736, 'CIFTI_STRUCTURE_PUTAMEN_RIGHT')\n",
      "(19, 88746, 'CIFTI_STRUCTURE_THALAMUS_LEFT')\n",
      "(20, 90034, 'CIFTI_STRUCTURE_THALAMUS_RIGHT')\n"
     ]
    }
   ],
   "source": [
    "img = nb.load('/software/temp/cifti2/rfMRI_REST1_LR_Atlas.dtseries.nii')\n",
    "mim = img.header.matrix.mims[1]\n",
    "for idx, bm in enumerate(mim.brainModels):\n",
    "    print((idx, bm.indexOffset, bm.brainStructure))\n",
    "bm1 = mim.brainModels[0]\n",
    "lidx = bm1.vertexIndices.indices\n",
    "bm2 = mim.brainModels[1]\n",
    "ridx = bm1.surfaceNumberOfVertices + bm2.vertexIndices.indices\n",
    "bidx = np.concatenate((lidx, ridx))"
   ]
  },
  {
   "cell_type": "code",
   "execution_count": 5,
   "metadata": {
    "collapsed": true
   },
   "outputs": [],
   "source": [
    "import math\n",
    "\n",
    "def rotation_matrix(axis, theta):\n",
    "    \"\"\"\n",
    "    Return the rotation matrix associated with counterclockwise rotation about\n",
    "    the given axis by theta radians.\n",
    "    \"\"\"\n",
    "    axis = np.asarray(axis)\n",
    "    theta = np.asarray(theta)\n",
    "    axis = axis/math.sqrt(np.dot(axis, axis))\n",
    "    a = math.cos(theta/2)\n",
    "    b, c, d = -axis*math.sin(theta/2)\n",
    "    aa, bb, cc, dd = a*a, b*b, c*c, d*d\n",
    "    bc, ad, ac, ab, bd, cd = b*c, a*d, a*c, a*b, b*d, c*d\n",
    "    return np.array([[aa+bb-cc-dd, 2*(bc+ad), 2*(bd-ac)],\n",
    "                     [2*(bc-ad), aa+cc-bb-dd, 2*(cd+ab)],\n",
    "                     [2*(bd+ac), 2*(cd-ab), aa+dd-bb-cc]])\n",
    "\n",
    "axis = [0, 0, 1]\n",
    "theta = np.pi"
   ]
  },
  {
   "cell_type": "code",
   "execution_count": 20,
   "metadata": {
    "collapsed": false
   },
   "outputs": [
    {
     "name": "stdout",
     "output_type": "stream",
     "text": [
      "(64984, 3)\n",
      "(129960, 3)\n"
     ]
    }
   ],
   "source": [
    "inflated = True\n",
    "split_brain = True\n",
    "\n",
    "surf = gifti.read('32k_ConteAtlas_v2/Conte69.L.midthickness.32k_fs_LR.surf.gii') #inflated.32k_fs_LR.surf.gii')\n",
    "verts_L_data = surf.darrays[0].data\n",
    "faces_L_data = surf.darrays[1].data\n",
    "\n",
    "surf = gifti.read('32k_ConteAtlas_v2/Conte69.R.midthickness.32k_fs_LR.surf.gii') #inflated.32k_fs_LR.surf.gii')\n",
    "verts_R_data = surf.darrays[0].data\n",
    "faces_R_data = surf.darrays[1].data\n",
    "\n",
    "if inflated:\n",
    "    surf = gifti.read('32k_ConteAtlas_v2/Conte69.L.inflated.32k_fs_LR.surf.gii')\n",
    "    verts_L_display = surf.darrays[0].data\n",
    "    faces_L_display = surf.darrays[1].data\n",
    "    surf = gifti.read('32k_ConteAtlas_v2/Conte69.R.inflated.32k_fs_LR.surf.gii')\n",
    "    verts_R_display = surf.darrays[0].data\n",
    "    faces_R_display = surf.darrays[1].data\n",
    "else:\n",
    "    verts_L_display = verts_L_data.copy()\n",
    "    verts_R_display = verts_R_data.copy()\n",
    "    faces_L_display = faces_L_data.copy()\n",
    "    faces_R_display = faces_R_data.copy()\n",
    "\n",
    "verts_L_display[:, 0] -= max(verts_L_display[:, 0])\n",
    "verts_R_display[:, 0] -= min(verts_R_display[:, 0])\n",
    "verts_L_display[:, 1] -= (max(verts_L_display[:, 1]) + 1)\n",
    "verts_R_display[:, 1] -= (max(verts_R_display[:, 1]) + 1)\n",
    "\n",
    "faces = np.vstack((faces_L_display, verts_L_display.shape[0] + faces_R_display))\n",
    "\n",
    "if split_brain:\n",
    "    verts2 = rotation_matrix(axis, theta).dot(verts_R_display.T).T\n",
    "else:\n",
    "    verts_L_display[:, 1] -= np.mean(verts_L_display[:, 1])\n",
    "    verts_R_display[:, 1] -= np.mean(verts_R_display[:, 1])\n",
    "    verts2 = verts_R_display\n",
    "    \n",
    "\n",
    "verts_rot = np.vstack((verts_L_display, verts2))\n",
    "verts = np.vstack((verts_L_data, verts_R_data))\n",
    "print verts.shape\n",
    "print faces.shape"
   ]
  },
  {
   "cell_type": "code",
   "execution_count": 21,
   "metadata": {
    "collapsed": false
   },
   "outputs": [
    {
     "name": "stdout",
     "output_type": "stream",
     "text": [
      "(2.3, -6, 6, 3)\n"
     ]
    }
   ],
   "source": [
    "#img = nb.load(('task_neurovault/task003_l2contrast_one_sample_l1contrast_5_audio_threshold.nii.gz'))\n",
    "img = nb.load(('/software/mnt/group_redo/model002/task001/control_co/stats/contrast_1/zstat1.nii.gz'))\n",
    "#img = nb.load(('/software/mnt/group_redo/model002/task001/control_co/stats/palm/contrast_1/palm_tfce_ztstat.nii.gz'))\n",
    "threshold = 2.3 # 1000\n",
    "display_threshold = 6 #8000\n",
    "\n",
    "data = img.get_data()\n",
    "aff = img.affine\n",
    "indices = np.round((np.linalg.pinv(aff).dot(np.hstack((verts, \n",
    "                                              np.ones((verts.shape[0], 1)))).T))[:3, :].T).astype(int)\n",
    "scalars2 = data[indices[:, 0], indices[:, 1], indices[:, 2]]\n",
    "scalars2[np.abs(scalars2) < threshold] = 0.\n",
    "scalars = np.zeros(verts.shape[0])\n",
    "scalars[bidx] = scalars2[bidx]\n",
    "\n",
    "negative = positive = False\n",
    "if np.any(scalars < 0):\n",
    "    negative = True\n",
    "if np.any(scalars > 0):\n",
    "    positive = True\n",
    "\n",
    "nlabels = 2\n",
    "if negative and positive:\n",
    "    maxval = max(-scalars.min(), scalars.max())\n",
    "    if maxval > display_threshold:\n",
    "        maxval = display_threshold\n",
    "    vmin = -maxval\n",
    "    vmax = maxval\n",
    "    nlabels = 3\n",
    "elif negative:\n",
    "    vmin = scalars.min()\n",
    "    if vmin < -display_threshold:\n",
    "        vmin = -display_threshold\n",
    "    vmax = 0\n",
    "elif positive:\n",
    "    vmax = scalars.max()\n",
    "    if vmax > display_threshold:\n",
    "        vmax = display_threshold\n",
    "    vmin = 0\n",
    "print((threshold, vmin, vmax, nlabels))"
   ]
  },
  {
   "cell_type": "code",
   "execution_count": 22,
   "metadata": {
    "collapsed": false
   },
   "outputs": [
    {
     "data": {
      "text/plain": [
       "(0.0, 90.0, -750, array([-44.59455872,   0.        , -83.94538879]))"
      ]
     },
     "execution_count": 22,
     "metadata": {},
     "output_type": "execute_result"
    }
   ],
   "source": [
    "dual_split = True\n",
    "\n",
    "fig1 = mlab.figure(1, bgcolor=(0, 0, 0))\n",
    "mlab.clf()\n",
    "mesh = tvtk.PolyData(points=verts_rot, polys=faces)\n",
    "mesh.point_data.scalars = scalars\n",
    "mesh.point_data.scalars.name = 'scalars'\n",
    "surf = mlab.pipeline.surface(mesh, colormap='autumn', vmin=vmin, vmax=vmax)\n",
    "if dual_split:\n",
    "    verts_rot_shifted = verts_rot.copy()\n",
    "    verts_rot_shifted = rotation_matrix(axis, theta).dot(verts_rot_shifted.T).T\n",
    "    verts_rot_shifted[:, 2] -= (np.max(verts_rot_shifted[:, 2]) - np.min(verts_rot_shifted[:, 2]))\n",
    "    verts_rot_shifted[:, 0] -= np.max(verts_rot_shifted[:, 0])\n",
    "    mesh2 = tvtk.PolyData(points=verts_rot_shifted, polys=faces)\n",
    "    mesh2.point_data.scalars = scalars\n",
    "    mesh2.point_data.scalars.name = 'scalars'\n",
    "    surf2 = mlab.pipeline.surface(mesh2, colormap='autumn', vmin=vmin, vmax=vmax)\n",
    "colorbar = mlab.colorbar(surf, nb_labels=nlabels) #, orientation='vertical')\n",
    "lut = surf.module_manager.scalar_lut_manager.lut.table.to_array()\n",
    "\n",
    "if negative and positive:\n",
    "    half_index = lut.shape[0] / 2\n",
    "    index =  int(half_index * threshold / vmax)\n",
    "    lut[(half_index - index + 1):(half_index + index), :] = 192\n",
    "    lut[(half_index + index):, :] = 255 * plt.cm.autumn(np.linspace(0, 255, half_index - index).astype(int))\n",
    "    lut[:(half_index - index), :] = 255 * plt.cm.viridis_r(np.linspace(0, 255, half_index - index).astype(int))\n",
    "elif negative:\n",
    "    index =  int(lut.shape[0] * threshold / abs(vmin))\n",
    "    lut[(lut.shape[0] - index):, :] = 192\n",
    "    lut[:(lut.shape[0] - index), :] = 255 * plt.cm.cool(np.linspace(0, 255, lut.shape[0] - index).astype(int))\n",
    "elif positive:\n",
    "    index =  int(lut.shape[0] * threshold / vmax)\n",
    "    lut[:index, :] = 192\n",
    "    lut[index:, :] = 255 * plt.cm.autumn(np.linspace(0, 255, lut.shape[0] - index).astype(int))\n",
    "lut[:, -1] = 255\n",
    "\n",
    "surf.module_manager.scalar_lut_manager.lut.table = lut\n",
    "if dual_split:\n",
    "    surf2.module_manager.scalar_lut_manager.lut.table = lut\n",
    "surf.module_manager.scalar_lut_manager.show_scalar_bar = False\n",
    "surf.module_manager.scalar_lut_manager.show_legend = False\n",
    "surf.module_manager.scalar_lut_manager.label_text_property.font_size = 10\n",
    "surf.module_manager.scalar_lut_manager.show_scalar_bar = True\n",
    "surf.module_manager.scalar_lut_manager.show_legend = True\n",
    "mlab.draw()\n",
    "\n",
    "translate = [0, 0, 0]\n",
    "if inflated:\n",
    "    zoom = -700\n",
    "else:\n",
    "    zoom = -600\n",
    "if dual_split:\n",
    "    if inflated:\n",
    "        translate = [0,   0, -104.01467148]\n",
    "    else:\n",
    "        translate = [0,  0, -54.76305802]        \n",
    "    if inflated:\n",
    "        zoom = -750\n",
    "    else:\n",
    "        zoom = -570\n",
    "    \n",
    "mlab.view(0, 90.0, zoom, translate)\n",
    "\n",
    "#mlab.savefig('test.png', figure=fig1, magnification=5)"
   ]
  },
  {
   "cell_type": "code",
   "execution_count": null,
   "metadata": {
    "collapsed": true
   },
   "outputs": [],
   "source": []
  }
 ],
 "metadata": {
  "kernelspec": {
   "display_name": "Python 2",
   "language": "python",
   "name": "python2"
  },
  "language_info": {
   "codemirror_mode": {
    "name": "ipython",
    "version": 2
   },
   "file_extension": ".py",
   "mimetype": "text/x-python",
   "name": "python",
   "nbconvert_exporter": "python",
   "pygments_lexer": "ipython2",
   "version": "2.7.10"
  }
 },
 "nbformat": 4,
 "nbformat_minor": 0
}
