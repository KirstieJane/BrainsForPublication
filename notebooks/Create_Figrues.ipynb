{
 "cells": [
  {
   "cell_type": "markdown",
   "metadata": {},
   "source": [
    "# Test Notebook to see if we can load Template"
   ]
  },
  {
   "cell_type": "markdown",
   "metadata": {},
   "source": [
    "To prepare the system, please run the following code:"
   ]
  },
  {
   "cell_type": "code",
   "execution_count": 1,
   "metadata": {
    "collapsed": true
   },
   "outputs": [],
   "source": [
    "import numpy as np\n",
    "import nibabel as nb\n",
    "from scipy.ndimage import label as sci_label\n",
    "import urllib"
   ]
  },
  {
   "cell_type": "markdown",
   "metadata": {},
   "source": [
    "Please specify here the URL to your statistical map, recommended are dropbox URLs."
   ]
  },
  {
   "cell_type": "code",
   "execution_count": 2,
   "metadata": {
    "collapsed": true
   },
   "outputs": [],
   "source": [
    "urlPath = 'https://www.dropbox.com/s/dl7bfuid7xclmdl/spmF_0001_thr.nii?dl=1'"
   ]
  },
  {
   "cell_type": "markdown",
   "metadata": {},
   "source": [
    "Do other fancy stuff:"
   ]
  },
  {
   "cell_type": "code",
   "execution_count": 5,
   "metadata": {
    "collapsed": true
   },
   "outputs": [],
   "source": [
    "fpath = urllib.urlretrieve(urlPath)[0]\n",
    "cluster_extend = 250\n",
    "threshold = 10\n",
    "\n",
    "img = nb.load(fpath)\n",
    "data = img.get_data()\n",
    "affine = img.get_affine()"
   ]
  },
  {
   "cell_type": "code",
   "execution_count": 3,
   "metadata": {
    "collapsed": false
   },
   "outputs": [
    {
     "name": "stderr",
     "output_type": "stream",
     "text": [
      "/home/mnotter/anaconda/lib/python2.7/site-packages/ipykernel/__main__.py:15: RuntimeWarning: invalid value encountered in greater\n"
     ]
    }
   ],
   "source": [
    "def get_labels(data, threshold=0, min_extent=0):\n",
    "    \"\"\"\n",
    "    Get number of clusters in dataset as well as labeled volume\n",
    "    Minimal extend of cluster and voxel-vise threshold can be specified\n",
    "    \"\"\"\n",
    "    binarized_data = abs(data) > threshold\n",
    "\n",
    "    # corrects directly the loaded data file\n",
    "    data[np.invert(binarized_data)] = 0\n",
    "\n",
    "    labels, nlabels = sci_label(binarized_data)\n",
    "    for idx in range(1, nlabels + 1):\n",
    "        if np.sum(labels == idx) < min_extent:\n",
    "            labels[labels == idx] = 0\n",
    "    nlabels = len(np.setdiff1d(np.unique(labels), [0]))\n",
    "    return sci_label(labels)\n",
    "\n",
    "labels, nlabels = get_labels(data, threshold=threshold, min_extent=cluster_extend)\n",
    "\n",
    "# Catch if nlabels is 0, i.e. no clusters survived thresholding\n",
    "\n",
    "def get_cluster_info(img, affine, data):\n",
    "    \"\"\"\n",
    "    Returns peak coordinations of a dataset, if labeled file,\n",
    "        data set and affine matrix is provided\n",
    "    \"\"\"\n",
    "    coords = []\n",
    "    labelID = np.setdiff1d(np.unique(img.ravel()), [0])\n",
    "    cs = []\n",
    "    maxcoords = []\n",
    "    valuesInfo = []\n",
    "    for lab in labelID:\n",
    "        sumval = np.sum(img == lab)\n",
    "        cs.append(sumval)\n",
    "        maxval = np.max(data[img == lab])\n",
    "        minval = np.min(data[img == lab])\n",
    "        meanval = np.mean(data[img == lab])\n",
    "        stdval = np.std(data[img == lab])\n",
    "        maxidx = np.nonzero(np.multiply(data, img == lab) == maxval)\n",
    "        maxcoords.append([m[0] for m in maxidx])\n",
    "        valuesInfo.append([maxval, minval, meanval, stdval, sumval])\n",
    "\n",
    "    maxcoords = np.asarray(maxcoords)\n",
    "    valuesInfo = np.asarray(valuesInfo)\n",
    "    maxcoords = maxcoords[np.argsort(cs)[::-1], :]\n",
    "    valuesInfo = valuesInfo[np.argsort(cs)[::-1], :]\n",
    "    for i, lab in enumerate(labelID[np.argsort(cs)[::-1]]):\n",
    "        coords.append(np.dot(affine,\n",
    "                             np.hstack((maxcoords[i], 1)))[:3].tolist())\n",
    "    return coords, valuesInfo\n",
    "\n",
    "coords, valuesInfo = get_cluster_info(labels, affine, data)\n",
    "\n",
    "\n",
    "from matplotlib import pylab\n",
    "from matplotlib import pyplot as plt\n",
    "from nipy.labs import viz\n",
    "from os.path import join as opj\n",
    "\n",
    "def show_slices(data, affine, coords=None, threshold=0.1, cmap=None, prefix=None,\n",
    "                show_colorbar=None, formatter='%.2f'):\n",
    "\n",
    "    if cmap is None:\n",
    "        cmap = pylab.cm.hot\n",
    "\n",
    "    anatimg = nb.load('../data/MNI152_T1_1mm_brain.nii.gz')\n",
    "    anatdata, anataff = anatimg.get_data(), anatimg.get_affine()\n",
    "    anatdata = anatdata.astype(np.float)\n",
    "    anatdata[anatdata < 10.] = np.nan\n",
    "    outfile = 'cluster.svg'\n",
    "    if prefix:\n",
    "        outfile = '_'.join((prefix, outfile))\n",
    "    if coords is None:\n",
    "        osl = viz.plot_map(np.asarray(data), affine, threshold=threshold,\n",
    "                           cmap=cmap, black_bg=False, draw_cross=False,\n",
    "                           slicer='ortho')\n",
    "        osl.frame_axes.figure.savefig(outfile, transparent=True)\n",
    "    else:\n",
    "        for idx, coord in enumerate(coords):\n",
    "            outfile = 'cluster%02d' % idx\n",
    "            if prefix:\n",
    "                outfile = '_'.join((prefix, outfile))\n",
    "            osl = viz.plot_map(\n",
    "                np.asarray(data), affine\n",
    "                , anat=anatdata, anat_affine=anataff,\n",
    "                threshold=threshold, cmap=cmap, annotate=True,\n",
    "                black_bg=False, cut_coords=coord, draw_cross=False, slicer='ortho')\n",
    "            if show_colorbar:\n",
    "                im = plt.gca().get_images()[1]\n",
    "                cb = plt.colorbar(im, cax=plt.axes([0.4, 0.05, 0.2, 0.025]),\n",
    "                                  orientation='horizontal', format=formatter)\n",
    "                cb.set_ticks([cb._values.min(), cb._values.max()])\n",
    "\n",
    "            osl.frame_axes.figure.savefig(\n",
    "                outfile + '.svg', dpi=400, bbox_inches='tight',\n",
    "                transparent=True)\n",
    "            plt.close()"
   ]
  },
  {
   "cell_type": "code",
   "execution_count": 8,
   "metadata": {
    "collapsed": false
   },
   "outputs": [],
   "source": [
    "show_slices(data, affine, coords, cmap=pylab.cm.hot, prefix='out', show_colorbar=True, formatter='%d')"
   ]
  }
 ],
 "metadata": {
  "kernelspec": {
   "display_name": "Python 2",
   "language": "python",
   "name": "python2"
  },
  "language_info": {
   "codemirror_mode": {
    "name": "ipython",
    "version": 2
   },
   "file_extension": ".py",
   "mimetype": "text/x-python",
   "name": "python",
   "nbconvert_exporter": "python",
   "pygments_lexer": "ipython2",
   "version": "2.7.11"
  }
 },
 "nbformat": 4,
 "nbformat_minor": 0
}
