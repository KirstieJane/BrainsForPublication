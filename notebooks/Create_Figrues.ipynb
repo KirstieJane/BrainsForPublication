{
 "cells": [
  {
   "cell_type": "markdown",
   "metadata": {},
   "source": [
    "# Test Notebook to see if we can load Template"
   ]
  },
  {
   "cell_type": "markdown",
   "metadata": {},
   "source": [
    "To prepare the system, please run the following code:"
   ]
  },
  {
   "cell_type": "code",
   "execution_count": null,
   "metadata": {
    "collapsed": false
   },
   "outputs": [],
   "source": [
    "%matplotlib inline"
   ]
  },
  {
   "cell_type": "code",
   "execution_count": null,
   "metadata": {
    "collapsed": true
   },
   "outputs": [],
   "source": [
    "import numpy as np\n",
    "import nibabel as nb\n",
    "from scipy.ndimage import label as sci_label\n",
    "import urllib\n",
    "from matplotlib import pylab\n",
    "from matplotlib import pyplot as plt\n",
    "from nipy.labs import viz\n",
    "from os.path import join as opj\n",
    "from os.path import basename as opb\n",
    "from glob import glob as gg\n",
    "from IPython.display import Image, display"
   ]
  },
  {
   "cell_type": "markdown",
   "metadata": {},
   "source": [
    "All necessary functions"
   ]
  },
  {
   "cell_type": "code",
   "execution_count": null,
   "metadata": {
    "collapsed": true
   },
   "outputs": [],
   "source": [
    "def get_labels(data, threshold=0, min_extent=0):\n",
    "    \"\"\"\n",
    "    Get number of clusters in dataset as well as labeled volume\n",
    "    Minimal extend of cluster and voxel-vise threshold can be specified\n",
    "    \"\"\"\n",
    "    binarized_data = abs(data) > threshold\n",
    "\n",
    "    # corrects directly the loaded data file\n",
    "    data[np.invert(binarized_data)] = 0\n",
    "\n",
    "    labels, nlabels = sci_label(binarized_data)\n",
    "    for idx in range(1, nlabels + 1):\n",
    "        if np.sum(labels == idx) < min_extent:\n",
    "            labels[labels == idx] = 0\n",
    "    nlabels = len(np.setdiff1d(np.unique(labels), [0]))\n",
    "    return sci_label(labels)\n",
    "\n",
    "\n",
    "def get_cluster_info(img, affine, data):\n",
    "    \"\"\"\n",
    "    Returns peak coordinations of a dataset, if labeled file,\n",
    "        data set and affine matrix is provided\n",
    "    \"\"\"\n",
    "    coords = []\n",
    "    labelID = np.setdiff1d(np.unique(img.ravel()), [0])\n",
    "    cs = []\n",
    "    maxcoords = []\n",
    "    valuesInfo = []\n",
    "    for lab in labelID:\n",
    "        sumval = np.sum(img == lab)\n",
    "        cs.append(sumval)\n",
    "        maxval = np.max(data[img == lab])\n",
    "        minval = np.min(data[img == lab])\n",
    "        meanval = np.mean(data[img == lab])\n",
    "        stdval = np.std(data[img == lab])\n",
    "        maxidx = np.nonzero(np.multiply(data, img == lab) == maxval)\n",
    "        maxcoords.append([m[0] for m in maxidx])\n",
    "        valuesInfo.append([sumval, maxval, minval, meanval, stdval])\n",
    "\n",
    "    maxcoords = np.asarray(maxcoords)\n",
    "    valuesInfo = np.asarray(valuesInfo)\n",
    "    maxcoords = maxcoords[np.argsort(cs)[::-1], :]\n",
    "    valuesInfo = valuesInfo[np.argsort(cs)[::-1], :]\n",
    "    for i, lab in enumerate(labelID[np.argsort(cs)[::-1]]):\n",
    "        coords.append(np.dot(affine,\n",
    "                             np.hstack((maxcoords[i], 1)))[:3].tolist())\n",
    "    valuesInfo = np.hstack((np.array(coords), valuesInfo))\n",
    "    return coords, valuesInfo\n",
    "\n",
    "\n",
    "def show_slices(data, affine, coords=None, threshold=0.1, cmap=None, prefix=None,\n",
    "                show_colorbar=None, formatter='%.2f'):\n",
    "\n",
    "    if cmap is None:\n",
    "        cmap = pylab.cm.hot\n",
    "\n",
    "    anatimg = nb.load('../templates/MNI152_T1_1mm_brain.nii.gz')\n",
    "    anatdata, anataff = anatimg.get_data(), anatimg.get_affine()\n",
    "    anatdata = anatdata.astype(np.float)\n",
    "    anatdata[anatdata < 10.] = np.nan\n",
    "\n",
    "    for idx, coord in enumerate(coords):\n",
    "            outfile = 'cluster%02d' % idx\n",
    "            if prefix:\n",
    "                outfile = '_'.join((prefix, outfile))\n",
    "            osl = viz.plot_map(\n",
    "                np.asarray(data), affine\n",
    "                , anat=anatdata, anat_affine=anataff,\n",
    "                threshold=threshold, cmap=cmap, annotate=True,\n",
    "                black_bg=False, cut_coords=coord, draw_cross=False, slicer='ortho')\n",
    "            if show_colorbar:\n",
    "                im = plt.gca().get_images()[1]\n",
    "                cb = plt.colorbar(im, cax=plt.axes([0.4, 0.05, 0.2, 0.025]),\n",
    "                                  orientation='horizontal', format=formatter)\n",
    "                cb.set_ticks([cb._values.min(), cb._values.max()])\n",
    "\n",
    "            osl.frame_axes.figure.savefig(opj('figures', outfile + '.png'),\n",
    "                dpi=300, bbox_inches='tight', transparent=True)\n",
    "            plt.close()"
   ]
  },
  {
   "cell_type": "markdown",
   "metadata": {},
   "source": [
    "Please drag and drop your files into the data folder of this notebook:"
   ]
  },
  {
   "cell_type": "markdown",
   "metadata": {},
   "source": [
    "Relevant variables:"
   ]
  },
  {
   "cell_type": "code",
   "execution_count": null,
   "metadata": {
    "collapsed": true
   },
   "outputs": [],
   "source": [
    "cluster_extend = 200\n",
    "threshold = 0\n"
   ]
  },
  {
   "cell_type": "markdown",
   "metadata": {},
   "source": [
    "Run the scripts"
   ]
  },
  {
   "cell_type": "code",
   "execution_count": null,
   "metadata": {
    "collapsed": false
   },
   "outputs": [],
   "source": [
    "fileList = gg('data/*')\n",
    "\n",
    "for fpath in fileList:\n",
    "  \n",
    "    img = nb.load(fpath)\n",
    "    data = img.get_data()\n",
    "    affine = img.get_affine()\n",
    "    labels, nlabels = get_labels(data, threshold=threshold, min_extent=cluster_extend)\n",
    "\n",
    "    if nlabels == 0:\n",
    "        continue\n",
    "    \n",
    "    # Catch if nlabels is 0, i.e. no clusters survived thresholding\n",
    "    #     Should an output be created if no cluster survives thresholding?\n",
    "    coords, valuesInfo = get_cluster_info(labels, affine, data)\n",
    "    \n",
    "    # Get file prefix\n",
    "    if fpath.endswith('.nii'):\n",
    "        filename = opb(fpath)[:-4]\n",
    "    elif fpath.endswith('.nii.gz'):\n",
    "        filename = opb(fpath)[:-7]\n",
    "\n",
    "    show_slices(data, affine, coords, cmap=pylab.cm.hot, prefix=filename, show_colorbar=True, formatter='%d')    \n",
    "    \n",
    "    header='X,Y,Z,Size,Max,Min,Mean,Std'\n",
    "    np.savetxt(opj('figures', filename+'.csv'), valuesInfo, delimiter=',', fmt='%.8f', header=header)"
   ]
  },
  {
   "cell_type": "markdown",
   "metadata": {},
   "source": [
    "Save all output in a nice zip file"
   ]
  },
  {
   "cell_type": "code",
   "execution_count": null,
   "metadata": {
    "collapsed": true
   },
   "outputs": [],
   "source": [
    "import shutil\n",
    "shutil.make_archive('outputs', 'zip', 'figures')"
   ]
  },
  {
   "cell_type": "markdown",
   "metadata": {},
   "source": [
    "Look at the figures"
   ]
  },
  {
   "cell_type": "code",
   "execution_count": null,
   "metadata": {
    "collapsed": false,
    "scrolled": true
   },
   "outputs": [],
   "source": [
    "outputs = gg('figures/*')\n",
    "for o in outputs:\n",
    "    a = Image(filename=o)\n",
    "    display(a)"
   ]
  }
 ],
 "metadata": {
  "kernelspec": {
   "display_name": "Python 2",
   "language": "python",
   "name": "python2"
  },
  "language_info": {
   "codemirror_mode": {
    "name": "ipython",
    "version": 2
   },
   "file_extension": ".py",
   "mimetype": "text/x-python",
   "name": "python",
   "nbconvert_exporter": "python",
   "pygments_lexer": "ipython2",
   "version": "2.7.11"
  }
 },
 "nbformat": 4,
 "nbformat_minor": 0
}
