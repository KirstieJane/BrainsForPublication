{
 "cells": [
  {
   "cell_type": "markdown",
   "metadata": {},
   "source": [
    "# Test Notebook to see if we can load Template"
   ]
  },
  {
   "cell_type": "markdown",
   "metadata": {},
   "source": [
    "To prepare the system, please run the following code:"
   ]
  },
  {
   "cell_type": "code",
   "execution_count": null,
   "metadata": {
    "collapsed": false
   },
   "outputs": [],
   "source": [
    "%matplotlib inline"
   ]
  },
  {
   "cell_type": "markdown",
   "metadata": {},
   "source": [
    "Please drag and drop your files into the data folder of this notebook:"
   ]
  },
  {
   "cell_type": "markdown",
   "metadata": {},
   "source": [
    "Relevant variables:"
   ]
  },
  {
   "cell_type": "code",
   "execution_count": null,
   "metadata": {
    "collapsed": true
   },
   "outputs": [],
   "source": [
    "cluster_extend = 400\n",
    "threshold = 0"
   ]
  },
  {
   "cell_type": "markdown",
   "metadata": {},
   "source": [
    "Run the scripts"
   ]
  },
  {
   "cell_type": "code",
   "execution_count": null,
   "metadata": {
    "collapsed": false
   },
   "outputs": [],
   "source": [
    "from volume import *\n",
    "import numpy as np\n",
    "import nibabel as nb\n",
    "from scipy.ndimage import label as sci_label\n",
    "from matplotlib import pylab\n",
    "from matplotlib import pyplot as plt\n",
    "from nipy.labs import viz\n",
    "from os.path import join as opj\n",
    "from os.path import basename as opb\n",
    "from glob import glob as gg\n",
    "from IPython.display import Image, display\n",
    "import shutil\n",
    "\n",
    "fileList = gg('data/*')\n",
    "\n",
    "for fpath in fileList:\n",
    "  \n",
    "    img = nb.load(fpath)\n",
    "    data = img.get_data()\n",
    "    affine = img.get_affine()\n",
    "    labels, nlabels = get_labels(data, threshold=threshold, min_extent=cluster_extend)\n",
    "\n",
    "    if nlabels == 0:\n",
    "        continue\n",
    "    \n",
    "    # Catch if nlabels is 0, i.e. no clusters survived thresholding\n",
    "    #     Should an output be created if no cluster survives thresholding?\n",
    "    coords, valuesInfo = get_cluster_info(labels, affine, data)\n",
    "    \n",
    "    # Get file prefix\n",
    "    if fpath.endswith('.nii'):\n",
    "        filename = opb(fpath)[:-4]\n",
    "    elif fpath.endswith('.nii.gz'):\n",
    "        filename = opb(fpath)[:-7]\n",
    "\n",
    "    show_slices(data, affine, coords, cmap=pylab.cm.hot, prefix=filename, show_colorbar=True, formatter='%d')    \n",
    "    \n",
    "    header='X,Y,Z,Size,Max,Min,Mean,Std'\n",
    "    np.savetxt(opj('figures', filename+'.csv'), valuesInfo, delimiter=',', fmt='%.8f', header=header)\n",
    "    \n",
    "shutil.make_archive('outputs', 'zip', 'figures')"
   ]
  },
  {
   "cell_type": "markdown",
   "metadata": {},
   "source": [
    "Look at the figures"
   ]
  },
  {
   "cell_type": "code",
   "execution_count": null,
   "metadata": {
    "collapsed": false,
    "scrolled": true
   },
   "outputs": [],
   "source": [
    "outputs = gg('figures/*')\n",
    "for o in outputs:\n",
    "    a = Image(filename=o)\n",
    "    display(a)"
   ]
  }
 ],
 "metadata": {
  "kernelspec": {
   "display_name": "Python 2",
   "language": "python",
   "name": "python2"
  },
  "language_info": {
   "codemirror_mode": {
    "name": "ipython",
    "version": 2
   },
   "file_extension": ".py",
   "mimetype": "text/x-python",
   "name": "python",
   "nbconvert_exporter": "python",
   "pygments_lexer": "ipython2",
   "version": "2.7.11"
  }
 },
 "nbformat": 4,
 "nbformat_minor": 0
}
