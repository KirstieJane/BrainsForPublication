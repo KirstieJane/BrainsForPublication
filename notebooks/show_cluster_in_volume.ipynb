{
 "cells": [
  {
   "cell_type": "markdown",
   "metadata": {},
   "source": [
    "# Visualize Clusters on Volume"
   ]
  },
  {
   "cell_type": "code",
   "execution_count": null,
   "metadata": {
    "collapsed": false
   },
   "outputs": [],
   "source": [
    "%matplotlib inline"
   ]
  },
  {
   "cell_type": "markdown",
   "metadata": {},
   "source": [
    "## 1. Upload all statistical maps into the data folder"
   ]
  },
  {
   "cell_type": "markdown",
   "metadata": {},
   "source": [
    "The `data` folder can be found in the same folder as this notebook. Just drag and drop your NIfTI file into the data folder and press the **upload** button."
   ]
  },
  {
   "cell_type": "markdown",
   "metadata": {},
   "source": [
    "## 2. Specify relevant visualization parameters"
   ]
  },
  {
   "cell_type": "code",
   "execution_count": null,
   "metadata": {
    "collapsed": true
   },
   "outputs": [],
   "source": [
    "# Voxel cluster extend\n",
    "cluster_extend = 20\n",
    "\n",
    "# Threshold for statistical map\n",
    "threshold = 2.3\n",
    "\n",
    "# Template to use for background\n",
    "template = '../scripts/templates/MNI152_T1_1mm_brain.nii.gz'\n",
    "\n",
    "# Creat CSV file with cluster information\n",
    "create_CSV = True\n",
    "\n",
    "# Show cross on cut position\n",
    "show_cross = True\n",
    "\n",
    "# Show image annotation (hemisphere laterality and coordination)\n",
    "annotate_figure = True\n",
    "\n",
    "# Show colorbar\n",
    "show_colorbar = True\n",
    "\n",
    "# Colorbar orientation\n",
    "colorbar_orientation = 'horizontal'\n",
    "\n",
    "# Show cluster information in title\n",
    "show_title = False\n",
    "\n",
    "# Image resolution\n",
    "dpi = 300\n",
    "\n",
    "# Image type\n",
    "imageType = 'png'\n",
    "\n",
    "# Add prefix to image name\n",
    "prefix = 'cluster'"
   ]
  },
  {
   "cell_type": "markdown",
   "metadata": {},
   "source": [
    "## 3. Run the visualization script"
   ]
  },
  {
   "cell_type": "code",
   "execution_count": null,
   "metadata": {
    "collapsed": false
   },
   "outputs": [],
   "source": [
    "%run ../scripts/show_volume.py \\\n",
    "    $cluster_extend \\\n",
    "    $threshold \\\n",
    "    $template \\\n",
    "    $create_CSV \\\n",
    "    $show_cross \\\n",
    "    $annotate_figure \\\n",
    "    $show_colorbar \\\n",
    "    $colorbar_orientation \\\n",
    "    $show_title \\\n",
    "    $dpi \\\n",
    "    $imageType \\\n",
    "    $prefix "
   ]
  },
  {
   "cell_type": "markdown",
   "metadata": {},
   "source": [
    "## 4. Look at your data"
   ]
  },
  {
   "cell_type": "code",
   "execution_count": null,
   "metadata": {
    "collapsed": false,
    "scrolled": false
   },
   "outputs": [],
   "source": [
    "from IPython.display import Image, display\n",
    "outputs = sorted(gg('figures/*/*.%s' % imageType))\n",
    "for o in outputs:\n",
    "    a = Image(filename=o)\n",
    "    display(a)"
   ]
  }
 ],
 "metadata": {
  "kernelspec": {
   "display_name": "Python 2",
   "language": "python",
   "name": "python2"
  },
  "language_info": {
   "codemirror_mode": {
    "name": "ipython",
    "version": 2
   },
   "file_extension": ".py",
   "mimetype": "text/x-python",
   "name": "python",
   "nbconvert_exporter": "python",
   "pygments_lexer": "ipython2",
   "version": "2.7.12"
  }
 },
 "nbformat": 4,
 "nbformat_minor": 0
}
